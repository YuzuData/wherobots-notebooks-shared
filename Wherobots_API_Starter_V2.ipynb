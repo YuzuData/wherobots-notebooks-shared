{
 "cells": [
  {
   "cell_type": "code",
   "id": "initial_id",
   "metadata": {
    "collapsed": true,
    "ExecuteTime": {
     "end_time": "2024-07-18T20:57:51.179325Z",
     "start_time": "2024-07-18T20:57:50.332446Z"
    }
   },
   "source": [
    "from dotenv import load_dotenv\n",
    "import os\n",
    "\n",
    "load_dotenv()\n",
    "api_key = os.getenv(\"WHEROBOTS_API_KEY\")"
   ],
   "outputs": [],
   "execution_count": 1
  },
  {
   "metadata": {
    "ExecuteTime": {
     "end_time": "2024-07-18T20:57:51.348736Z",
     "start_time": "2024-07-18T20:57:51.181281Z"
    }
   },
   "cell_type": "code",
   "source": "from wherobots_api.wherobots_cloud_helper import WherobotsCloud",
   "id": "c00d1bdf970bfd1e",
   "outputs": [],
   "execution_count": 2
  },
  {
   "metadata": {
    "ExecuteTime": {
     "end_time": "2024-07-18T20:57:51.352005Z",
     "start_time": "2024-07-18T20:57:51.349805Z"
    }
   },
   "cell_type": "code",
   "source": "wbc = WherobotsCloud(api_key)",
   "id": "6946de1c18bc6637",
   "outputs": [],
   "execution_count": 3
  },
  {
   "metadata": {
    "ExecuteTime": {
     "end_time": "2024-07-18T20:58:40.737236Z",
     "start_time": "2024-07-18T20:57:51.588489Z"
    }
   },
   "cell_type": "code",
   "source": "wbc.open_connection()",
   "id": "1f4c2420f0369022",
   "outputs": [
    {
     "data": {
      "text/plain": [
       "(<wherobots.db.connection.Connection at 0x1130c0d50>,\n",
       " <wherobots.db.cursor.Cursor at 0x111fb8110>)"
      ]
     },
     "execution_count": 4,
     "metadata": {},
     "output_type": "execute_result"
    }
   ],
   "execution_count": 4
  },
  {
   "metadata": {
    "ExecuteTime": {
     "end_time": "2024-07-18T20:58:40.741932Z",
     "start_time": "2024-07-18T20:58:40.739038Z"
    }
   },
   "cell_type": "code",
   "source": "wbc.test_connection()",
   "id": "594f6a9e520e2c3",
   "outputs": [
    {
     "name": "stdout",
     "output_type": "stream",
     "text": [
      "Connection is working\n"
     ]
    }
   ],
   "execution_count": 5
  },
  {
   "metadata": {
    "ExecuteTime": {
     "end_time": "2024-07-18T20:58:40.745517Z",
     "start_time": "2024-07-18T20:58:40.743033Z"
    }
   },
   "cell_type": "code",
   "source": [
    "sql_query_overture_countries = \"\"\"\n",
    "    SELECT\n",
    "        id,\n",
    "        names['primary'],\n",
    "        geometry,\n",
    "        population\n",
    "    FROM\n",
    "        wherobots_open_data.overture_2024_02_15.admins_locality\n",
    "    WHERE localityType = 'country'\n",
    "    SORT BY population DESC\n",
    "    LIMIT 10\n",
    "\"\"\""
   ],
   "id": "9cd0840b94129d4b",
   "outputs": [],
   "execution_count": 6
  },
  {
   "metadata": {
    "ExecuteTime": {
     "end_time": "2024-07-18T20:59:01.481347Z",
     "start_time": "2024-07-18T20:58:40.747454Z"
    }
   },
   "cell_type": "code",
   "source": "gdf = wbc.query_to_gdf(sql_query_overture_countries)",
   "id": "1e2c9a1aac38a0ec",
   "outputs": [],
   "execution_count": 7
  },
  {
   "metadata": {
    "ExecuteTime": {
     "end_time": "2024-07-18T20:59:10.688888Z",
     "start_time": "2024-07-18T20:59:05.073395Z"
    }
   },
   "cell_type": "code",
   "source": "gdf.explore()",
   "id": "8e315e01ad8f644",
   "outputs": [
    {
     "data": {
      "text/plain": [
       "<folium.folium.Map at 0x16fb2dc90>"
      ],
      "text/html": [
       "<div style=\"width:100%;\"><div style=\"position:relative;width:100%;height:0;padding-bottom:60%;\"><span style=\"color:#565656\">Make this Notebook Trusted to load map: File -> Trust Notebook</span><iframe srcdoc=\"&lt;!DOCTYPE html&gt;\n",
       "&lt;html&gt;\n",
       "&lt;head&gt;\n",
       "    \n",
       "    &lt;meta http-equiv=&quot;content-type&quot; content=&quot;text/html; charset=UTF-8&quot; /&gt;\n",
       "    \n",
       "        &lt;script&gt;\n",
       "            L_NO_TOUCH = false;\n",
       "            L_DISABLE_3D = false;\n",
       "        &lt;/script&gt;\n",
       "    \n",
       "    &lt;style&gt;html, body {width: 100%;height: 100%;margin: 0;padding: 0;}&lt;/style&gt;\n",
       "    &lt;style&gt;#map {position:absolute;top:0;bottom:0;right:0;left:0;}&lt;/style&gt;\n",
       "    &lt;script src=&quot;https://cdn.jsdelivr.net/npm/leaflet@1.9.3/dist/leaflet.js&quot;&gt;&lt;/script&gt;\n",
       "    &lt;script src=&quot;https://code.jquery.com/jquery-1.12.4.min.js&quot;&gt;&lt;/script&gt;\n",
       "    &lt;script src=&quot;https://cdn.jsdelivr.net/npm/bootstrap@5.2.2/dist/js/bootstrap.bundle.min.js&quot;&gt;&lt;/script&gt;\n",
       "    &lt;script src=&quot;https://cdnjs.cloudflare.com/ajax/libs/Leaflet.awesome-markers/2.0.2/leaflet.awesome-markers.js&quot;&gt;&lt;/script&gt;\n",
       "    &lt;link rel=&quot;stylesheet&quot; href=&quot;https://cdn.jsdelivr.net/npm/leaflet@1.9.3/dist/leaflet.css&quot;/&gt;\n",
       "    &lt;link rel=&quot;stylesheet&quot; href=&quot;https://cdn.jsdelivr.net/npm/bootstrap@5.2.2/dist/css/bootstrap.min.css&quot;/&gt;\n",
       "    &lt;link rel=&quot;stylesheet&quot; href=&quot;https://netdna.bootstrapcdn.com/bootstrap/3.0.0/css/bootstrap.min.css&quot;/&gt;\n",
       "    &lt;link rel=&quot;stylesheet&quot; href=&quot;https://cdn.jsdelivr.net/npm/@fortawesome/fontawesome-free@6.2.0/css/all.min.css&quot;/&gt;\n",
       "    &lt;link rel=&quot;stylesheet&quot; href=&quot;https://cdnjs.cloudflare.com/ajax/libs/Leaflet.awesome-markers/2.0.2/leaflet.awesome-markers.css&quot;/&gt;\n",
       "    &lt;link rel=&quot;stylesheet&quot; href=&quot;https://cdn.jsdelivr.net/gh/python-visualization/folium/folium/templates/leaflet.awesome.rotate.min.css&quot;/&gt;\n",
       "    \n",
       "            &lt;meta name=&quot;viewport&quot; content=&quot;width=device-width,\n",
       "                initial-scale=1.0, maximum-scale=1.0, user-scalable=no&quot; /&gt;\n",
       "            &lt;style&gt;\n",
       "                #map_0ba497a53c4267f4a3844c6e95746299 {\n",
       "                    position: relative;\n",
       "                    width: 100.0%;\n",
       "                    height: 100.0%;\n",
       "                    left: 0.0%;\n",
       "                    top: 0.0%;\n",
       "                }\n",
       "                .leaflet-container { font-size: 1rem; }\n",
       "            &lt;/style&gt;\n",
       "        \n",
       "    \n",
       "                    &lt;style&gt;\n",
       "                        .foliumtooltip {\n",
       "                            \n",
       "                        }\n",
       "                       .foliumtooltip table{\n",
       "                            margin: auto;\n",
       "                        }\n",
       "                        .foliumtooltip tr{\n",
       "                            text-align: left;\n",
       "                        }\n",
       "                        .foliumtooltip th{\n",
       "                            padding: 2px; padding-right: 8px;\n",
       "                        }\n",
       "                    &lt;/style&gt;\n",
       "            \n",
       "&lt;/head&gt;\n",
       "&lt;body&gt;\n",
       "    \n",
       "    \n",
       "            &lt;div class=&quot;folium-map&quot; id=&quot;map_0ba497a53c4267f4a3844c6e95746299&quot; &gt;&lt;/div&gt;\n",
       "        \n",
       "&lt;/body&gt;\n",
       "&lt;script&gt;\n",
       "    \n",
       "    \n",
       "            var map_0ba497a53c4267f4a3844c6e95746299 = L.map(\n",
       "                &quot;map_0ba497a53c4267f4a3844c6e95746299&quot;,\n",
       "                {\n",
       "                    center: [9.8529291, -31.677794700000003],\n",
       "                    crs: L.CRS.EPSG3857,\n",
       "                    zoom: 10,\n",
       "                    zoomControl: true,\n",
       "                    preferCanvas: false,\n",
       "                }\n",
       "            );\n",
       "            L.control.scale().addTo(map_0ba497a53c4267f4a3844c6e95746299);\n",
       "\n",
       "            \n",
       "\n",
       "        \n",
       "    \n",
       "            var tile_layer_4099a91f11f19e34770d99a7b1d62733 = L.tileLayer(\n",
       "                &quot;https://{s}.tile.openstreetmap.org/{z}/{x}/{y}.png&quot;,\n",
       "                {&quot;attribution&quot;: &quot;Data by \\u0026copy; \\u003ca target=\\&quot;_blank\\&quot; href=\\&quot;http://openstreetmap.org\\&quot;\\u003eOpenStreetMap\\u003c/a\\u003e, under \\u003ca target=\\&quot;_blank\\&quot; href=\\&quot;http://www.openstreetmap.org/copyright\\&quot;\\u003eODbL\\u003c/a\\u003e.&quot;, &quot;detectRetina&quot;: false, &quot;maxNativeZoom&quot;: 18, &quot;maxZoom&quot;: 18, &quot;minZoom&quot;: 0, &quot;noWrap&quot;: false, &quot;opacity&quot;: 1, &quot;subdomains&quot;: &quot;abc&quot;, &quot;tms&quot;: false}\n",
       "            ).addTo(map_0ba497a53c4267f4a3844c6e95746299);\n",
       "        \n",
       "    \n",
       "            map_0ba497a53c4267f4a3844c6e95746299.fitBounds(\n",
       "                [[-34.9964963, -102.0077097], [54.7023545, 38.6521203]],\n",
       "                {}\n",
       "            );\n",
       "        \n",
       "    \n",
       "        function geo_json_dda7be297e17be6440f14eaddb96bec2_styler(feature) {\n",
       "            switch(feature.id) {\n",
       "                default:\n",
       "                    return {&quot;fillOpacity&quot;: 0.5, &quot;weight&quot;: 2};\n",
       "            }\n",
       "        }\n",
       "        function geo_json_dda7be297e17be6440f14eaddb96bec2_highlighter(feature) {\n",
       "            switch(feature.id) {\n",
       "                default:\n",
       "                    return {&quot;fillOpacity&quot;: 0.75};\n",
       "            }\n",
       "        }\n",
       "        function geo_json_dda7be297e17be6440f14eaddb96bec2_pointToLayer(feature, latlng) {\n",
       "            var opts = {&quot;bubblingMouseEvents&quot;: true, &quot;color&quot;: &quot;#3388ff&quot;, &quot;dashArray&quot;: null, &quot;dashOffset&quot;: null, &quot;fill&quot;: true, &quot;fillColor&quot;: &quot;#3388ff&quot;, &quot;fillOpacity&quot;: 0.2, &quot;fillRule&quot;: &quot;evenodd&quot;, &quot;lineCap&quot;: &quot;round&quot;, &quot;lineJoin&quot;: &quot;round&quot;, &quot;opacity&quot;: 1.0, &quot;radius&quot;: 2, &quot;stroke&quot;: true, &quot;weight&quot;: 3};\n",
       "            \n",
       "            let style = geo_json_dda7be297e17be6440f14eaddb96bec2_styler(feature)\n",
       "            Object.assign(opts, style)\n",
       "            \n",
       "            return new L.CircleMarker(latlng, opts)\n",
       "        }\n",
       "\n",
       "        function geo_json_dda7be297e17be6440f14eaddb96bec2_onEachFeature(feature, layer) {\n",
       "            layer.on({\n",
       "                mouseout: function(e) {\n",
       "                    if(typeof e.target.setStyle === &quot;function&quot;){\n",
       "                        geo_json_dda7be297e17be6440f14eaddb96bec2.resetStyle(e.target);\n",
       "                    }\n",
       "                },\n",
       "                mouseover: function(e) {\n",
       "                    if(typeof e.target.setStyle === &quot;function&quot;){\n",
       "                        const highlightStyle = geo_json_dda7be297e17be6440f14eaddb96bec2_highlighter(e.target.feature)\n",
       "                        e.target.setStyle(highlightStyle);\n",
       "                    }\n",
       "                },\n",
       "            });\n",
       "        };\n",
       "        var geo_json_dda7be297e17be6440f14eaddb96bec2 = L.geoJson(null, {\n",
       "                onEachFeature: geo_json_dda7be297e17be6440f14eaddb96bec2_onEachFeature,\n",
       "            \n",
       "                style: geo_json_dda7be297e17be6440f14eaddb96bec2_styler,\n",
       "                pointToLayer: geo_json_dda7be297e17be6440f14eaddb96bec2_pointToLayer\n",
       "        });\n",
       "\n",
       "        function geo_json_dda7be297e17be6440f14eaddb96bec2_add (data) {\n",
       "            geo_json_dda7be297e17be6440f14eaddb96bec2\n",
       "                .addData(data)\n",
       "                .addTo(map_0ba497a53c4267f4a3844c6e95746299);\n",
       "        }\n",
       "            geo_json_dda7be297e17be6440f14eaddb96bec2_add({&quot;bbox&quot;: [-102.0077097, -34.9964963, 38.6521203, 54.7023545], &quot;features&quot;: [{&quot;bbox&quot;: [-100.445882, 39.7837304, -100.445882, 39.7837304], &quot;geometry&quot;: {&quot;coordinates&quot;: [-100.445882, 39.7837304], &quot;type&quot;: &quot;Point&quot;}, &quot;id&quot;: &quot;0&quot;, &quot;properties&quot;: {&quot;id&quot;: &quot;0850c861bfffffff01aeb407d56d3441&quot;, &quot;names.primary&quot;: &quot;United States&quot;, &quot;population&quot;: 331449281}, &quot;type&quot;: &quot;Feature&quot;}, {&quot;bbox&quot;: [-53.2, -10.3333333, -53.2, -10.3333333], &quot;geometry&quot;: {&quot;coordinates&quot;: [-53.2, -10.3333333], &quot;type&quot;: &quot;Point&quot;}, &quot;id&quot;: &quot;1&quot;, &quot;properties&quot;: {&quot;id&quot;: &quot;0851f1eaffffffff0164d4bb993451b0&quot;, &quot;names.primary&quot;: &quot;Brasil&quot;, &quot;population&quot;: 208714806}, &quot;type&quot;: &quot;Feature&quot;}, {&quot;bbox&quot;: [7.9999721, 9.6000359, 7.9999721, 9.6000359], &quot;geometry&quot;: {&quot;coordinates&quot;: [7.9999721, 9.6000359], &quot;type&quot;: &quot;Point&quot;}, &quot;id&quot;: &quot;2&quot;, &quot;properties&quot;: {&quot;id&quot;: &quot;0858e2a17fffffff0172bf8a197f4f8a&quot;, &quot;names.primary&quot;: &quot;Nigeria&quot;, &quot;population&quot;: 152217341}, &quot;type&quot;: &quot;Feature&quot;}, {&quot;bbox&quot;: [-102.0077097, 23.6585116, -102.0077097, 23.6585116], &quot;geometry&quot;: {&quot;coordinates&quot;: [-102.0077097, 23.6585116], &quot;type&quot;: &quot;Point&quot;}, &quot;id&quot;: &quot;3&quot;, &quot;properties&quot;: {&quot;id&quot;: &quot;085ef259bfffffff01163555bf80130a&quot;, &quot;names.primary&quot;: &quot;M\\u00e9xico&quot;, &quot;population&quot;: 129900000}, &quot;type&quot;: &quot;Feature&quot;}, {&quot;bbox&quot;: [38.6521203, 10.2116702, 38.6521203, 10.2116702], &quot;geometry&quot;: {&quot;coordinates&quot;: [38.6521203, 10.2116702], &quot;type&quot;: &quot;Point&quot;}, &quot;id&quot;: &quot;4&quot;, &quot;properties&quot;: {&quot;id&quot;: &quot;085d36903fffffff01a647761fcfdaf3&quot;, &quot;names.primary&quot;: &quot;Abyssinia&quot;, &quot;population&quot;: 126527060}, &quot;type&quot;: &quot;Feature&quot;}, {&quot;bbox&quot;: [-3.2765753, 54.7023545, -3.2765753, 54.7023545], &quot;geometry&quot;: {&quot;coordinates&quot;: [-3.2765753, 54.7023545], &quot;type&quot;: &quot;Point&quot;}, &quot;id&quot;: &quot;5&quot;, &quot;properties&quot;: {&quot;id&quot;: &quot;085eea613fffffff01a8a15aa3da4c44&quot;, &quot;names.primary&quot;: &quot;United Kingdom&quot;, &quot;population&quot;: 61792000}, &quot;type&quot;: &quot;Feature&quot;}, {&quot;bbox&quot;: [-64.9672817, -34.9964963, -64.9672817, -34.9964963], &quot;geometry&quot;: {&quot;coordinates&quot;: [-64.9672817, -34.9964963], &quot;type&quot;: &quot;Point&quot;}, &quot;id&quot;: &quot;6&quot;, &quot;properties&quot;: {&quot;id&quot;: &quot;08543a95bfffffff011612e1eb2b785d&quot;, &quot;names.primary&quot;: &quot;Argentina&quot;, &quot;population&quot;: 47327407}, &quot;type&quot;: &quot;Feature&quot;}, {&quot;bbox&quot;: [-4.8379791, 39.3260685, -4.8379791, 39.3260685], &quot;geometry&quot;: {&quot;coordinates&quot;: [-4.8379791, 39.3260685], &quot;type&quot;: &quot;Point&quot;}, &quot;id&quot;: &quot;7&quot;, &quot;properties&quot;: {&quot;id&quot;: &quot;0850301d3fffffff01fc58a07e8605b4&quot;, &quot;names.primary&quot;: &quot;Espa\\u00f1a&quot;, &quot;population&quot;: 46157822}, &quot;type&quot;: &quot;Feature&quot;}, {&quot;bbox&quot;: [-72.9088133, 4.099917, -72.9088133, 4.099917], &quot;geometry&quot;: {&quot;coordinates&quot;: [-72.9088133, 4.099917], &quot;type&quot;: &quot;Point&quot;}, &quot;id&quot;: &quot;8&quot;, &quot;properties&quot;: {&quot;id&quot;: &quot;085de865bfffffff0135578029abeb35&quot;, &quot;names.primary&quot;: &quot;Colombia&quot;, &quot;population&quot;: 44050548}, &quot;type&quot;: &quot;Feature&quot;}, {&quot;bbox&quot;: [29.4917691, 14.5844444, 29.4917691, 14.5844444], &quot;geometry&quot;: {&quot;coordinates&quot;: [29.4917691, 14.5844444], &quot;type&quot;: &quot;Point&quot;}, &quot;id&quot;: &quot;9&quot;, &quot;properties&quot;: {&quot;id&quot;: &quot;0850b2873fffffff01024304ec4f908c&quot;, &quot;names.primary&quot;: &quot;Sudan&quot;, &quot;population&quot;: 39379358}, &quot;type&quot;: &quot;Feature&quot;}], &quot;type&quot;: &quot;FeatureCollection&quot;});\n",
       "\n",
       "        \n",
       "    \n",
       "    geo_json_dda7be297e17be6440f14eaddb96bec2.bindTooltip(\n",
       "    function(layer){\n",
       "    let div = L.DomUtil.create(&#x27;div&#x27;);\n",
       "    \n",
       "    let handleObject = feature=&gt;typeof(feature)==&#x27;object&#x27; ? JSON.stringify(feature) : feature;\n",
       "    let fields = [&quot;id&quot;, &quot;names.primary&quot;, &quot;population&quot;];\n",
       "    let aliases = [&quot;id&quot;, &quot;names.primary&quot;, &quot;population&quot;];\n",
       "    let table = &#x27;&lt;table&gt;&#x27; +\n",
       "        String(\n",
       "        fields.map(\n",
       "        (v,i)=&gt;\n",
       "        `&lt;tr&gt;\n",
       "            &lt;th&gt;${aliases[i]}&lt;/th&gt;\n",
       "            \n",
       "            &lt;td&gt;${handleObject(layer.feature.properties[v])}&lt;/td&gt;\n",
       "        &lt;/tr&gt;`).join(&#x27;&#x27;))\n",
       "    +&#x27;&lt;/table&gt;&#x27;;\n",
       "    div.innerHTML=table;\n",
       "    \n",
       "    return div\n",
       "    }\n",
       "    ,{&quot;className&quot;: &quot;foliumtooltip&quot;, &quot;sticky&quot;: true});\n",
       "                     \n",
       "&lt;/script&gt;\n",
       "&lt;/html&gt;\" style=\"position:absolute;width:100%;height:100%;left:0;top:0;border:none !important;\" allowfullscreen webkitallowfullscreen mozallowfullscreen></iframe></div></div>"
      ]
     },
     "execution_count": 8,
     "metadata": {},
     "output_type": "execute_result"
    }
   ],
   "execution_count": 8
  },
  {
   "metadata": {
    "ExecuteTime": {
     "end_time": "2024-07-18T20:57:33.765089Z",
     "start_time": "2024-07-18T20:57:33.728981Z"
    }
   },
   "cell_type": "code",
   "source": "wbc.close_connection()",
   "id": "3cc11972bee5b85a",
   "outputs": [],
   "execution_count": 35
  },
  {
   "metadata": {},
   "cell_type": "code",
   "outputs": [],
   "execution_count": null,
   "source": "",
   "id": "40b0358539f80c2d"
  }
 ],
 "metadata": {
  "kernelspec": {
   "display_name": "Python 3",
   "language": "python",
   "name": "python3"
  },
  "language_info": {
   "codemirror_mode": {
    "name": "ipython",
    "version": 2
   },
   "file_extension": ".py",
   "mimetype": "text/x-python",
   "name": "python",
   "nbconvert_exporter": "python",
   "pygments_lexer": "ipython2",
   "version": "2.7.6"
  }
 },
 "nbformat": 4,
 "nbformat_minor": 5
}
