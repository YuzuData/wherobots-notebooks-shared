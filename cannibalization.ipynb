{
 "cells": [
  {
   "cell_type": "markdown",
   "id": "c91ffacb-5672-4192-b8ae-36869e34bc6b",
   "metadata": {},
   "source": [
    "# Cannibal(ization)! The Notebook"
   ]
  },
  {
   "cell_type": "markdown",
   "id": "e068b683-407f-46f4-b62f-4a928e04b194",
   "metadata": {},
   "source": [
    "In this notebook, we look at how to do a simple cannibalization study using Overture Maps POI data and Kontur population data. We will also be using the Valhalla open source routing engine."
   ]
  },
  {
   "cell_type": "markdown",
   "id": "17b8b8c3-4a14-42b3-91ce-20df2afb4e1e",
   "metadata": {},
   "source": [
    "## Loading Data"
   ]
  },
  {
   "cell_type": "markdown",
   "id": "4b650a8b-88f1-4e75-9596-430613cd531b",
   "metadata": {},
   "source": [
    "We start by importing some libraries that will be useful to us and creating a Sedona context."
   ]
  },
  {
   "cell_type": "code",
   "execution_count": 15,
   "id": "481a30ec-2dff-4bf0-8e0f-36bad8cd8d63",
   "metadata": {},
   "outputs": [],
   "source": [
    "import geopandas as gpd\n",
    "import pandas as pd\n",
    "import requests\n",
    "from sedona.spark import *\n",
    "from pyspark.sql.functions import explode, array\n",
    "from pyspark.sql import functions as F"
   ]
  },
  {
   "cell_type": "code",
   "execution_count": null,
   "id": "acfe89b5-3906-4a29-a3ef-27ba85fb2140",
   "metadata": {},
   "outputs": [],
   "source": [
    "config = SedonaContext.builder().getOrCreate()\n",
    "sedona = SedonaContext.create(config)"
   ]
  },
  {
   "cell_type": "markdown",
   "id": "0badf609-b10e-43d4-bd19-bdcd3515c512",
   "metadata": {},
   "source": [
    "We define a function `get_isochrone` which takes as its input the coordinates of a location, the costing function (meaning whether we want to plot isochrones for driving, walking, or biking), what time steps we want isochrones for, and optional arguments for a name and brand ID. \n",
    "\n",
    "The function returns a GeoPandas dataframe which has a column for the isochrone geometry, and columns for the point name and brand ID."
   ]
  },
  {
   "cell_type": "code",
   "execution_count": 2,
   "id": "a5aca457-802d-47ce-8a54-c2a4905d0358",
   "metadata": {},
   "outputs": [],
   "source": [
    "def get_isochrone(lat, lng, costing, time_steps, name = 'taargus', store_id = 'taargus'):\n",
    "    url = \"https://valhalla1.openstreetmap.de/isochrone\"\n",
    "    params = {\n",
    "      \"locations\": [{\"lon\": lng, \"lat\": lat}],\n",
    "      \"contours\": [{\"time\": i} for i in time_steps],\n",
    "      \"costing\": costing,\n",
    "      \"polygons\": 1,\n",
    "    }\n",
    "    response = requests.post(url, json=params)\n",
    "    if response:\n",
    "        result = response.json()\n",
    "        if 'error_code' not in result.keys():\n",
    "            df = gpd.GeoDataFrame.from_features(result)\n",
    "            df['name'] = name\n",
    "            df['id'] = store_id\n",
    "            return df[['name','id','geometry']]"
   ]
  },
  {
   "cell_type": "markdown",
   "id": "c35395d5-e00c-442f-82d2-77373d5c0358",
   "metadata": {},
   "source": [
    "Next, we load the two main data sources we will need. First, we create a temporary view of the `places` table from Overture Maps. Then, we load the Kontur population dataset.\n",
    "\n",
    "The Kontur dataset contains estimates for population in the US, aggregated by aperture 8 H3 hexes (~400m side-length). Viewing population by H3 hexes rather than administrative boundaries allows us to estimate populations inside drivetimes or other irregular polygons.\n",
    "\n",
    "We convert the hex names in the Kontur table to `BIGINT` because this is how H3 hexes are labeled in SedonaSQL. "
   ]
  },
  {
   "cell_type": "code",
   "execution_count": 2,
   "id": "8440f7ef-4a43-4fad-acb9-65d189cc849a",
   "metadata": {},
   "outputs": [
    {
     "name": "stderr",
     "output_type": "stream",
     "text": [
      "                                                                                \r"
     ]
    }
   ],
   "source": [
    "sedona.table(\"wherobots_open_data.overture.places_place\").createOrReplaceTempView(\"places\")\n",
    "\n",
    "kontur = sedona.read.option('header','true').load('s3://wbts-wbc-m97rcg45xi/ouz7h0o9bi/data/shared/h3_population/us_h3_8_pop.geojson', format=\"json\") .\\\n",
    "drop('_corrupt_record').dropna() .\\\n",
    "selectExpr('CAST(CONV(properties.h3, 16, 10) AS BIGINT) AS h3', 'properties.population as population')\n",
    "kontur.createOrReplaceTempView('kontur')"
   ]
  },
  {
   "cell_type": "markdown",
   "id": "a4c7c0c9-e054-4eae-8539-61d7fb453770",
   "metadata": {},
   "source": [
    "We will be doing a cannibalization of two primarily Texas-based taco chains: Torchy's Tacos and Velvet Taco.\n",
    "\n",
    "The `stores` dataframe below selects the Texas locations of both chains. We also add a `chain` column to our dataframe to make it easier to aggregate these locations by chain name later on and not worry about locations with nonstandard names like 'Torchy's Tacos DFW' or 'Velvet Taco Midtown' which may occur."
   ]
  },
  {
   "cell_type": "code",
   "execution_count": 3,
   "id": "87df3f65-e696-4a91-9b4a-7cf6793cbbc4",
   "metadata": {},
   "outputs": [],
   "source": [
    "stores = sedona.sql(\"\"\"\n",
    "SELECT id, names.common[0].value as name, ST_X(geometry) as long, ST_Y(geometry) as lat, geometry, CASE WHEN names.common[0].value LIKE \"%Torchy's Tacos%\" THEN \"Torchy's Tacos\" ELSE 'Velvet Taco' END AS chain\n",
    "FROM places\n",
    "WHERE addresses[0].region = 'TX'\n",
    "AND (names.common[0].value LIKE \"%Torchy's Tacos%\" OR names.common[0].value LIKE '%Velvet Taco%')\n",
    "\"\"\")"
   ]
  },
  {
   "cell_type": "code",
   "execution_count": 9,
   "id": "5bde2537-1c25-4177-ae1c-afd572e08788",
   "metadata": {},
   "outputs": [
    {
     "name": "stderr",
     "output_type": "stream",
     "text": [
      "SLF4J: Failed to load class \"org.slf4j.impl.StaticLoggerBinder\".\n",
      "SLF4J: Defaulting to no-operation (NOP) logger implementation\n",
      "SLF4J: See http://www.slf4j.org/codes.html#StaticLoggerBinder for further details.\n",
      "[Stage 6:======================================================>  (19 + 1) / 20]\r"
     ]
    },
    {
     "name": "stdout",
     "output_type": "stream",
     "text": [
      "+--------------------+--------------+-----------+----------+\n",
      "|                  id|          name|       long|       lat|\n",
      "+--------------------+--------------+-----------+----------+\n",
      "|tmp_8104A79216254...|Torchy's Tacos|  -98.59689|  29.60891|\n",
      "|tmp_D17CA8BD72325...|Torchy's Tacos|  -97.74175|  30.29368|\n",
      "|tmp_F497329382C10...|   Velvet Taco|  -95.48866|  30.18314|\n",
      "|tmp_9B40A1BF3237E...|Torchy's Tacos| -96.805853| 32.909982|\n",
      "|tmp_38210E5EC047B...|Torchy's Tacos|  -96.68755|  33.10118|\n",
      "|tmp_DF0C5DF6CA549...|Torchy's Tacos|  -97.75159|  30.24542|\n",
      "|tmp_BE38CAC8D46CF...|Torchy's Tacos|  -97.80877|  30.52676|\n",
      "|tmp_44390C4117BEA...|Torchy's Tacos|  -97.82594|   30.4547|\n",
      "|tmp_8032605AA5BDC...|   Velvet Taco| -96.469695| 32.898634|\n",
      "|tmp_0A2AA67757F42...|Torchy's Tacos|  -96.44858|  32.90856|\n",
      "|tmp_643821EB9C104...|Torchy's Tacos|  -97.11933|  32.94021|\n",
      "|tmp_0042962D27E06...|   Velvet Taco|-95.3905374|29.7444214|\n",
      "|tmp_8D0E2246C3F36...|Torchy's Tacos|  -97.15952|  33.22987|\n",
      "|tmp_CB939610BC175...|Torchy's Tacos|  -95.62067|  29.60098|\n",
      "|tmp_54C9A79320840...|Torchy's Tacos|  -97.75604|  30.37091|\n",
      "|tmp_96D7B4FBCB327...|Torchy's Tacos|  -98.49816|  29.60937|\n",
      "|tmp_1BB732F35314D...|   Velvet Taco|  -95.41044|    29.804|\n",
      "|tmp_55787B14975DD...|   Velvet Taco|-96.7173913|32.9758554|\n",
      "|tmp_7DC02C9CC1FAA...|Torchy's Tacos|  -95.29544|  32.30361|\n",
      "|tmp_1987B31B9E24D...|   Velvet Taco|  -95.41006| 29.770256|\n",
      "+--------------------+--------------+-----------+----------+\n",
      "only showing top 20 rows\n",
      "\n"
     ]
    },
    {
     "name": "stderr",
     "output_type": "stream",
     "text": [
      "                                                                                \r"
     ]
    }
   ],
   "source": [
    "stores.show()"
   ]
  },
  {
   "cell_type": "code",
   "execution_count": 10,
   "id": "be401088-0c66-4924-8d7b-46cd387d2145",
   "metadata": {},
   "outputs": [
    {
     "name": "stderr",
     "output_type": "stream",
     "text": [
      "                                                                                \r"
     ]
    },
    {
     "data": {
      "text/plain": [
       "124"
      ]
     },
     "execution_count": 10,
     "metadata": {},
     "output_type": "execute_result"
    }
   ],
   "source": [
    "stores.count()"
   ]
  },
  {
   "cell_type": "markdown",
   "id": "358e6c03-3058-4e75-a1b9-d304c68d97cf",
   "metadata": {
    "jp-MarkdownHeadingCollapsed": true,
    "tags": []
   },
   "source": [
    "## Isochrone Generation"
   ]
  },
  {
   "cell_type": "markdown",
   "id": "11dfa32b-7db9-4a60-af6a-4d0e9e23f112",
   "metadata": {},
   "source": [
    "This is an optional part of the notebook which lets us create a new isochrone dataframe and save it to our storage."
   ]
  },
  {
   "cell_type": "code",
   "execution_count": 52,
   "id": "76c1ea1e-641c-4338-be41-f5eae55429fc",
   "metadata": {
    "tags": []
   },
   "outputs": [
    {
     "name": "stderr",
     "output_type": "stream",
     "text": [
      "                                                                                \r"
     ]
    }
   ],
   "source": [
    "drivetimes_5_min = pd.concat([get_isochrone(row.lat, row.long, 'auto', [5], row.chain, row.id) for row in stores.select('id','chain','lat','long').collect()])"
   ]
  },
  {
   "cell_type": "code",
   "execution_count": 12,
   "id": "15c9cc0c-ce73-4f34-bfac-2a2030f7b9f6",
   "metadata": {
    "tags": []
   },
   "outputs": [
    {
     "data": {
      "text/plain": [
       "(124, 3)"
      ]
     },
     "execution_count": 12,
     "metadata": {},
     "output_type": "execute_result"
    }
   ],
   "source": [
    "drivetimes_20_min.shape"
   ]
  },
  {
   "cell_type": "code",
   "execution_count": 60,
   "id": "100338a6-91a7-44ec-bb21-a252d7f02f85",
   "metadata": {},
   "outputs": [],
   "source": [
    "drivetimes_5_min.to_csv('s3://wbts-wbc-m97rcg45xi/ouz7h0o9bi/data/customer-4wwwla6ldgla6q/drivetimes_5_min_torchys_velvet.csv', index = False)"
   ]
  },
  {
   "cell_type": "markdown",
   "id": "c1fbbe50-1b22-4572-b3eb-3a569782b893",
   "metadata": {},
   "source": [
    "## Cannibalization Analysis"
   ]
  },
  {
   "cell_type": "markdown",
   "id": "0b361efd-fdc4-4ff6-b8e8-b42d83450ef2",
   "metadata": {},
   "source": [
    "We load an existing isochrone dataframe. For simplicity's sake, we will look at 5-minute drive times for each Torchy's and Velvet Taco location."
   ]
  },
  {
   "cell_type": "code",
   "execution_count": 4,
   "id": "009107bd-3c06-4711-b315-a7585b86b1a3",
   "metadata": {},
   "outputs": [],
   "source": [
    "sedona.read.option('header','true').format('csv') .\\\n",
    "load('s3://wbts-wbc-m97rcg45xi/ouz7h0o9bi/data/customer-4wwwla6ldgla6q/drivetimes_5_min_torchys_velvet.csv') .\\\n",
    "createOrReplaceTempView('drivetimes_5_min')"
   ]
  },
  {
   "cell_type": "markdown",
   "id": "2baf79f5-12f2-4ac8-b3e5-b248c3749102",
   "metadata": {},
   "source": [
    "We can turn the highly irregular isochrone polygons into collections of H3 hexes. \n",
    "\n",
    "We apply the `explode` function to the `h3` column so that we get a table where each row contains information about a single H3 hex rather than a list of hexes, because this will make it easier to compute the drivetime population estimates and plot our results later on."
   ]
  },
  {
   "cell_type": "code",
   "execution_count": 5,
   "id": "bf6c49b5-0447-4bd2-bc57-0fcb4f9c8ed2",
   "metadata": {},
   "outputs": [],
   "source": [
    "sedona.sql(\"\"\"\n",
    "SELECT ST_H3CellIds(ST_GeomFromWKT(geometry), 8, false) AS h3, name, id\n",
    "FROM drivetimes_5_min\n",
    "\"\"\").select(explode('h3'), 'name','id').withColumnRenamed('col','h3') .\\\n",
    "join(kontur, 'h3', 'left').distinct().createOrReplaceTempView('h3_isochrones')"
   ]
  },
  {
   "cell_type": "markdown",
   "id": "308e637d-c789-4a7b-8266-2cbe8ce40bdb",
   "metadata": {},
   "source": [
    "We can run the following query to show the number of people in Texas who live within a 5 minutes drive of a Torchy's Tacos:"
   ]
  },
  {
   "cell_type": "code",
   "execution_count": 65,
   "id": "91f49885-39c0-44ba-a6fa-95ea413c66f1",
   "metadata": {
    "tags": []
   },
   "outputs": [
    {
     "name": "stderr",
     "output_type": "stream",
     "text": [
      "[Stage 160:================================================>      (15 + 2) / 17]\r"
     ]
    },
    {
     "name": "stdout",
     "output_type": "stream",
     "text": [
      "+---------------+\n",
      "|sum(population)|\n",
      "+---------------+\n",
      "|      1546765.0|\n",
      "+---------------+\n",
      "\n"
     ]
    },
    {
     "name": "stderr",
     "output_type": "stream",
     "text": [
      "                                                                                \r"
     ]
    }
   ],
   "source": [
    "sedona.sql(\"\"\"\n",
    "WITH distinct_h3 (h3, population) AS \n",
    "(\n",
    "    SELECT DISTINCT h3, ANY_VALUE(population)\n",
    "    FROM h3_isochrones\n",
    "    WHERE name LIKE \"%Torchy's%\"\n",
    "    GROUP BY h3\n",
    ")\n",
    "SELECT SUM(population)\n",
    "FROM distinct_h3\n",
    "\"\"\").show()"
   ]
  },
  {
   "cell_type": "markdown",
   "id": "784b2cd4-b32d-4101-ac7b-c6214a8c6d37",
   "metadata": {},
   "source": [
    "We can also see how many people live within a 5-minute drivetime of more than one Torchy's Tacos:"
   ]
  },
  {
   "cell_type": "code",
   "execution_count": 18,
   "id": "fc4906ec-d2ca-4547-b60f-b21e98b322c4",
   "metadata": {},
   "outputs": [
    {
     "name": "stderr",
     "output_type": "stream",
     "text": [
      "                                                                                \r"
     ]
    },
    {
     "data": {
      "text/plain": [
       "97903.0"
      ]
     },
     "execution_count": 18,
     "metadata": {},
     "output_type": "execute_result"
    }
   ],
   "source": [
    "sedona.sql(\"\"\"\n",
    "SELECT ST_H3CellIds(ST_GeomFromWKT(geometry), 8, false) AS h3, name, id\n",
    "FROM drivetimes_5_min\n",
    "\"\"\").select(explode('h3'), 'name','id').withColumnRenamed('col','h3') .\\\n",
    "join(kontur, 'h3', 'left').filter('name LIKE \"%Torchy%\"').select('h3','population') .\\\n",
    "groupBy('h3').count().filter('count >= 2').join(kontur, 'h3', 'left').distinct() .\\\n",
    "agg(F.sum('population')).collect()[0][0]"
   ]
  },
  {
   "cell_type": "markdown",
   "id": "f20f186e-a8f4-42cc-ab1b-80f63fb92e29",
   "metadata": {
    "tags": []
   },
   "source": [
    "Population in TX living within 5 minutes' of a Velvet Taco:"
   ]
  },
  {
   "cell_type": "code",
   "execution_count": 66,
   "id": "5a613a84-c453-4a5e-bf43-9e5d8af46ce2",
   "metadata": {},
   "outputs": [
    {
     "name": "stderr",
     "output_type": "stream",
     "text": [
      "[Stage 172:==========================================>            (10 + 3) / 13]\r"
     ]
    },
    {
     "name": "stdout",
     "output_type": "stream",
     "text": [
      "+---------------+\n",
      "|sum(population)|\n",
      "+---------------+\n",
      "|       750360.0|\n",
      "+---------------+\n",
      "\n"
     ]
    },
    {
     "name": "stderr",
     "output_type": "stream",
     "text": [
      "                                                                                \r"
     ]
    }
   ],
   "source": [
    "sedona.sql(\"\"\"\n",
    "WITH distinct_h3 (h3, population) AS \n",
    "(\n",
    "    SELECT DISTINCT h3, ANY_VALUE(population)\n",
    "    FROM h3_isochrones\n",
    "    WHERE name LIKE '%Velvet Taco%'\n",
    "    GROUP BY h3\n",
    ")\n",
    "SELECT SUM(population)\n",
    "FROM distinct_h3\n",
    "\"\"\").show()"
   ]
  },
  {
   "cell_type": "markdown",
   "id": "722ff45b-62e8-4fd4-9131-d27f70920fcf",
   "metadata": {},
   "source": [
    "We can also see how many people live within a 5-minute drivetime of more than one Velvet Taco:"
   ]
  },
  {
   "cell_type": "code",
   "execution_count": 19,
   "id": "45b8d16d-32ad-4840-94fb-6830cfb89083",
   "metadata": {},
   "outputs": [
    {
     "name": "stderr",
     "output_type": "stream",
     "text": [
      "                                                                                \r"
     ]
    },
    {
     "data": {
      "text/plain": [
       "100298.0"
      ]
     },
     "execution_count": 19,
     "metadata": {},
     "output_type": "execute_result"
    }
   ],
   "source": [
    "sedona.sql(\"\"\"\n",
    "SELECT ST_H3CellIds(ST_GeomFromWKT(geometry), 8, false) AS h3, name, id\n",
    "FROM drivetimes_5_min\n",
    "\"\"\").select(explode('h3'), 'name','id').withColumnRenamed('col','h3') .\\\n",
    "join(kontur, 'h3', 'left').filter('name LIKE \"%Velvet%\"').select('h3','population') .\\\n",
    "groupBy('h3').count().filter('count >= 2').join(kontur, 'h3', 'left').distinct() .\\\n",
    "agg(F.sum('population')).collect()[0][0]"
   ]
  },
  {
   "cell_type": "markdown",
   "id": "9db01f80-4dbf-4c00-abf1-8966d11c7192",
   "metadata": {},
   "source": [
    "Population living in drivetime overlap:"
   ]
  },
  {
   "cell_type": "code",
   "execution_count": 67,
   "id": "e5275827-876e-4e2d-b1e8-2be663053ec8",
   "metadata": {},
   "outputs": [
    {
     "name": "stderr",
     "output_type": "stream",
     "text": [
      "[Stage 181:==========================================>            (10 + 3) / 13]\r"
     ]
    },
    {
     "name": "stdout",
     "output_type": "stream",
     "text": [
      "+---------------+\n",
      "|sum(population)|\n",
      "+---------------+\n",
      "|       415033.0|\n",
      "+---------------+\n",
      "\n"
     ]
    },
    {
     "name": "stderr",
     "output_type": "stream",
     "text": [
      "                                                                                \r"
     ]
    }
   ],
   "source": [
    "sedona.sql(\"\"\"\n",
    "WITH overlap_h3 (h3, population) AS\n",
    "(\n",
    "    SELECT DISTINCT a.h3, ANY_VALUE(a.population)\n",
    "    FROM h3_isochrones a LEFT JOIN h3_isochrones b ON a.h3 = b.h3\n",
    "    WHERE a.name != b.name\n",
    "    GROUP BY a.h3\n",
    ")\n",
    "SELECT sum(population)\n",
    "FROM overlap_h3\n",
    "\"\"\").show()"
   ]
  },
  {
   "cell_type": "markdown",
   "id": "9bb882bc-bd81-4ec0-980b-6d5e9ab66282",
   "metadata": {},
   "source": [
    "We see that over half of the people who live within a 5 minute drive of a Velvet Taco also live within a 5 minute drive of a Torchy's Tacos."
   ]
  },
  {
   "cell_type": "markdown",
   "id": "f8ccf6b2-f5fc-4977-8196-35c1ad3e9592",
   "metadata": {},
   "source": [
    "## Visualizations"
   ]
  },
  {
   "cell_type": "markdown",
   "id": "533b0883-6ab6-4500-9f6f-f005090c03fe",
   "metadata": {},
   "source": [
    "In this section, we show how to use SedonaKepler to plot the locations of the two taco chains we examined, as well as how to visualize the respective drive times and population estimates.\n",
    "\n",
    "The first map shows the Texas location of each chain, color-coded by the chain id."
   ]
  },
  {
   "cell_type": "code",
   "execution_count": 6,
   "id": "c04e7ab8-5988-4144-aa29-e333c38a85df",
   "metadata": {
    "jupyter": {
     "source_hidden": true
    },
    "tags": []
   },
   "outputs": [],
   "source": [
    "location_map_cfg = {'version': 'v1',\n",
    " 'config': {'visState': {'filters': [],\n",
    "   'layers': [{'id': 'y2oi43e',\n",
    "     'type': 'geojson',\n",
    "     'config': {'dataId': 'Locations',\n",
    "      'label': 'Locations',\n",
    "      'color': [183, 136, 94],\n",
    "      'highlightColor': [252, 242, 26, 255],\n",
    "      'columns': {'geojson': 'geometry'},\n",
    "      'isVisible': True,\n",
    "      'visConfig': {'opacity': 0.8,\n",
    "       'strokeOpacity': 0.8,\n",
    "       'thickness': 0.5,\n",
    "       'strokeColor': None,\n",
    "       'colorRange': {'name': 'Ice And Fire 3',\n",
    "        'type': 'diverging',\n",
    "        'category': 'Uber',\n",
    "        'colors': ['#0198BD', '#FAFEB3', '#D50255']},\n",
    "       'strokeColorRange': {'name': 'Global Warming',\n",
    "        'type': 'sequential',\n",
    "        'category': 'Uber',\n",
    "        'colors': ['#5A1846',\n",
    "         '#900C3F',\n",
    "         '#C70039',\n",
    "         '#E3611C',\n",
    "         '#F1920E',\n",
    "         '#FFC300']},\n",
    "       'radius': 10,\n",
    "       'sizeRange': [0, 10],\n",
    "       'radiusRange': [0, 50],\n",
    "       'heightRange': [0, 500],\n",
    "       'elevationScale': 5,\n",
    "       'enableElevationZoomFactor': True,\n",
    "       'stroked': False,\n",
    "       'filled': True,\n",
    "       'enable3d': False,\n",
    "       'wireframe': False},\n",
    "      'hidden': False,\n",
    "      'textLabel': [{'field': None,\n",
    "        'color': [255, 255, 255],\n",
    "        'size': 18,\n",
    "        'offset': [0, 0],\n",
    "        'anchor': 'start',\n",
    "        'alignment': 'center'}]},\n",
    "     'visualChannels': {'colorField': {'name': 'chain', 'type': 'string'},\n",
    "      'colorScale': 'ordinal',\n",
    "      'strokeColorField': None,\n",
    "      'strokeColorScale': 'quantile',\n",
    "      'sizeField': None,\n",
    "      'sizeScale': 'linear',\n",
    "      'heightField': None,\n",
    "      'heightScale': 'linear',\n",
    "      'radiusField': None,\n",
    "      'radiusScale': 'linear'}}],\n",
    "   'interactionConfig': {'tooltip': {'fieldsToShow': {'Locations': [{'name': 'chain',\n",
    "        'format': None}]},\n",
    "     'compareMode': False,\n",
    "     'compareType': 'absolute',\n",
    "     'enabled': True},\n",
    "    'brush': {'size': 0.5, 'enabled': False},\n",
    "    'geocoder': {'enabled': False},\n",
    "    'coordinate': {'enabled': False}},\n",
    "   'layerBlending': 'normal',\n",
    "   'splitMaps': [],\n",
    "   'animationConfig': {'currentTime': None, 'speed': 1}},\n",
    "  'mapState': {'bearing': 0,\n",
    "   'dragRotate': False,\n",
    "   'latitude': 30.200120881683112,\n",
    "   'longitude': -97.57506424815895,\n",
    "   'pitch': 0,\n",
    "   'zoom': 8.797279073806099,\n",
    "   'isSplit': False},\n",
    "  'mapStyle': {'styleType': 'dark',\n",
    "   'topLayerGroups': {},\n",
    "   'visibleLayerGroups': {'label': True,\n",
    "    'road': True,\n",
    "    'border': False,\n",
    "    'building': True,\n",
    "    'water': True,\n",
    "    'land': True,\n",
    "    '3d building': False},\n",
    "   'threeDBuildingColor': [9.665468314072013,\n",
    "    17.18305478057247,\n",
    "    31.1442867897876],\n",
    "   'mapStyles': {}}}}"
   ]
  },
  {
   "cell_type": "code",
   "execution_count": 7,
   "id": "9f02a3f9-8b2f-4a07-bfc3-135cac175b81",
   "metadata": {
    "tags": []
   },
   "outputs": [
    {
     "name": "stdout",
     "output_type": "stream",
     "text": [
      "User Guide: https://docs.kepler.gl/docs/keplergl-jupyter\n"
     ]
    },
    {
     "name": "stderr",
     "output_type": "stream",
     "text": [
      "SLF4J: Failed to load class \"org.slf4j.impl.StaticLoggerBinder\".\n",
      "SLF4J: Defaulting to no-operation (NOP) logger implementation\n",
      "SLF4J: See http://www.slf4j.org/codes.html#StaticLoggerBinder for further details.\n",
      "                                                                                \r"
     ]
    }
   ],
   "source": [
    "location_map = SedonaKepler.create_map(stores, \"Locations\", config = location_map_cfg)"
   ]
  },
  {
   "cell_type": "code",
   "execution_count": 8,
   "id": "a56ab3c6-3dde-438a-bd7c-974a5f6b23d2",
   "metadata": {
    "tags": []
   },
   "outputs": [
    {
     "data": {
      "application/vnd.jupyter.widget-view+json": {
       "model_id": "6e8e9caf898e4d72bf239e1130b085bd",
       "version_major": 2,
       "version_minor": 0
      },
      "text/plain": [
       "KeplerGl(config={'version': 'v1', 'config': {'visState': {'filters': [], 'layers': [{'id': 'y2oi43e', 'type': …"
      ]
     },
     "metadata": {},
     "output_type": "display_data"
    }
   ],
   "source": [
    "location_map"
   ]
  },
  {
   "cell_type": "code",
   "execution_count": 91,
   "id": "1c51ab94-b2e5-4df1-ad4b-04215823359e",
   "metadata": {
    "collapsed": true,
    "jupyter": {
     "outputs_hidden": true
    },
    "tags": []
   },
   "outputs": [
    {
     "data": {
      "text/plain": [
       "{'version': 'v1',\n",
       " 'config': {'visState': {'filters': [],\n",
       "   'layers': [{'id': 'y2oi43e',\n",
       "     'type': 'geojson',\n",
       "     'config': {'dataId': 'Locations',\n",
       "      'label': 'Locations',\n",
       "      'color': [183, 136, 94],\n",
       "      'highlightColor': [252, 242, 26, 255],\n",
       "      'columns': {'geojson': 'geometry'},\n",
       "      'isVisible': True,\n",
       "      'visConfig': {'opacity': 0.8,\n",
       "       'strokeOpacity': 0.8,\n",
       "       'thickness': 0.5,\n",
       "       'strokeColor': None,\n",
       "       'colorRange': {'name': 'Ice And Fire 3',\n",
       "        'type': 'diverging',\n",
       "        'category': 'Uber',\n",
       "        'colors': ['#0198BD', '#FAFEB3', '#D50255']},\n",
       "       'strokeColorRange': {'name': 'Global Warming',\n",
       "        'type': 'sequential',\n",
       "        'category': 'Uber',\n",
       "        'colors': ['#5A1846',\n",
       "         '#900C3F',\n",
       "         '#C70039',\n",
       "         '#E3611C',\n",
       "         '#F1920E',\n",
       "         '#FFC300']},\n",
       "       'radius': 10,\n",
       "       'sizeRange': [0, 10],\n",
       "       'radiusRange': [0, 50],\n",
       "       'heightRange': [0, 500],\n",
       "       'elevationScale': 5,\n",
       "       'enableElevationZoomFactor': True,\n",
       "       'stroked': False,\n",
       "       'filled': True,\n",
       "       'enable3d': False,\n",
       "       'wireframe': False},\n",
       "      'hidden': False,\n",
       "      'textLabel': [{'field': None,\n",
       "        'color': [255, 255, 255],\n",
       "        'size': 18,\n",
       "        'offset': [0, 0],\n",
       "        'anchor': 'start',\n",
       "        'alignment': 'center'}]},\n",
       "     'visualChannels': {'colorField': {'name': 'chain', 'type': 'string'},\n",
       "      'colorScale': 'ordinal',\n",
       "      'strokeColorField': None,\n",
       "      'strokeColorScale': 'quantile',\n",
       "      'sizeField': None,\n",
       "      'sizeScale': 'linear',\n",
       "      'heightField': None,\n",
       "      'heightScale': 'linear',\n",
       "      'radiusField': None,\n",
       "      'radiusScale': 'linear'}}],\n",
       "   'interactionConfig': {'tooltip': {'fieldsToShow': {'Locations': [{'name': 'chain',\n",
       "        'format': None}]},\n",
       "     'compareMode': False,\n",
       "     'compareType': 'absolute',\n",
       "     'enabled': True},\n",
       "    'brush': {'size': 0.5, 'enabled': False},\n",
       "    'geocoder': {'enabled': False},\n",
       "    'coordinate': {'enabled': False}},\n",
       "   'layerBlending': 'normal',\n",
       "   'splitMaps': [],\n",
       "   'animationConfig': {'currentTime': None, 'speed': 1}},\n",
       "  'mapState': {'bearing': 0,\n",
       "   'dragRotate': False,\n",
       "   'latitude': 30.200120881683112,\n",
       "   'longitude': -97.57506424815895,\n",
       "   'pitch': 0,\n",
       "   'zoom': 8.797279073806099,\n",
       "   'isSplit': False},\n",
       "  'mapStyle': {'styleType': 'dark',\n",
       "   'topLayerGroups': {},\n",
       "   'visibleLayerGroups': {'label': True,\n",
       "    'road': True,\n",
       "    'border': False,\n",
       "    'building': True,\n",
       "    'water': True,\n",
       "    'land': True,\n",
       "    '3d building': False},\n",
       "   'threeDBuildingColor': [9.665468314072013,\n",
       "    17.18305478057247,\n",
       "    31.1442867897876],\n",
       "   'mapStyles': {}}}}"
      ]
     },
     "execution_count": 91,
     "metadata": {},
     "output_type": "execute_result"
    }
   ],
   "source": [
    "location_map.config"
   ]
  },
  {
   "cell_type": "code",
   "execution_count": 6,
   "id": "14bef469-fe1e-429f-a103-bee1d81cf00b",
   "metadata": {
    "jupyter": {
     "source_hidden": true
    },
    "tags": []
   },
   "outputs": [],
   "source": [
    "isochrone_map_cfg = {'version': 'v1',\n",
    " 'config': {'visState': {'filters': [],\n",
    "   'layers': [{'id': 'e4swxqa',\n",
    "     'type': 'geojson',\n",
    "     'config': {'dataId': 'Isochrones',\n",
    "      'label': 'Isochrones',\n",
    "      'color': [241, 92, 23],\n",
    "      'highlightColor': [252, 242, 26, 255],\n",
    "      'columns': {'geojson': 'geometry'},\n",
    "      'isVisible': True,\n",
    "      'visConfig': {'opacity': 0.3,\n",
    "       'strokeOpacity': 0.8,\n",
    "       'thickness': 0.5,\n",
    "       'strokeColor': [34, 63, 154],\n",
    "       'colorRange': {'name': 'Ice And Fire 3',\n",
    "        'type': 'diverging',\n",
    "        'category': 'Uber',\n",
    "        'colors': ['#0198BD', '#FAFEB3', '#D50255']},\n",
    "       'strokeColorRange': {'name': 'Global Warming',\n",
    "        'type': 'sequential',\n",
    "        'category': 'Uber',\n",
    "        'colors': ['#5A1846',\n",
    "         '#900C3F',\n",
    "         '#C70039',\n",
    "         '#E3611C',\n",
    "         '#F1920E',\n",
    "         '#FFC300']},\n",
    "       'radius': 10,\n",
    "       'sizeRange': [0, 10],\n",
    "       'radiusRange': [0, 50],\n",
    "       'heightRange': [0, 500],\n",
    "       'elevationScale': 5,\n",
    "       'enableElevationZoomFactor': True,\n",
    "       'stroked': False,\n",
    "       'filled': True,\n",
    "       'enable3d': False,\n",
    "       'wireframe': False},\n",
    "      'hidden': False,\n",
    "      'textLabel': [{'field': None,\n",
    "        'color': [255, 255, 255],\n",
    "        'size': 18,\n",
    "        'offset': [0, 0],\n",
    "        'anchor': 'start',\n",
    "        'alignment': 'center'}]},\n",
    "     'visualChannels': {'colorField': {'name': 'name', 'type': 'string'},\n",
    "      'colorScale': 'ordinal',\n",
    "      'strokeColorField': None,\n",
    "      'strokeColorScale': 'quantile',\n",
    "      'sizeField': None,\n",
    "      'sizeScale': 'linear',\n",
    "      'heightField': None,\n",
    "      'heightScale': 'linear',\n",
    "      'radiusField': None,\n",
    "      'radiusScale': 'linear'}}],\n",
    "   'interactionConfig': {'tooltip': {'fieldsToShow': {'Isochrones': [{'name': 'name',\n",
    "        'format': None}]},\n",
    "     'compareMode': False,\n",
    "     'compareType': 'absolute',\n",
    "     'enabled': True},\n",
    "    'brush': {'size': 0.5, 'enabled': False},\n",
    "    'geocoder': {'enabled': False},\n",
    "    'coordinate': {'enabled': False}},\n",
    "   'layerBlending': 'normal',\n",
    "   'splitMaps': [],\n",
    "   'animationConfig': {'currentTime': None, 'speed': 1}},\n",
    "  'mapState': {'bearing': 0,\n",
    "   'dragRotate': False,\n",
    "   'latitude': 32.601205964888095,\n",
    "   'longitude': -96.40454260677171,\n",
    "   'pitch': 0,\n",
    "   'zoom': 8.7972790738061,\n",
    "   'isSplit': False},\n",
    "  'mapStyle': {'styleType': 'dark',\n",
    "   'topLayerGroups': {},\n",
    "   'visibleLayerGroups': {'label': True,\n",
    "    'road': True,\n",
    "    'border': False,\n",
    "    'building': True,\n",
    "    'water': True,\n",
    "    'land': True,\n",
    "    '3d building': False},\n",
    "   'threeDBuildingColor': [9.665468314072013,\n",
    "    17.18305478057247,\n",
    "    31.1442867897876],\n",
    "   'mapStyles': {}}}}"
   ]
  },
  {
   "cell_type": "code",
   "execution_count": 7,
   "id": "df20fa91-b1fd-4bb1-91a4-5f3acd2de1ab",
   "metadata": {},
   "outputs": [
    {
     "name": "stdout",
     "output_type": "stream",
     "text": [
      "User Guide: https://docs.kepler.gl/docs/keplergl-jupyter\n"
     ]
    }
   ],
   "source": [
    "map_isochrones = sedona.read.option('header','true').format('csv').load('s3://wbts-wbc-m97rcg45xi/ouz7h0o9bi/data/customer-4wwwla6ldgla6q/drivetimes_5_min_torchys_velvet.csv')\n",
    "isochrone_map = SedonaKepler.create_map(map_isochrones, \"Isochrones\", config = isochrone_map_cfg)"
   ]
  },
  {
   "cell_type": "code",
   "execution_count": 8,
   "id": "96e89356-b46d-4549-a70d-ae7f66066231",
   "metadata": {},
   "outputs": [
    {
     "data": {
      "application/vnd.jupyter.widget-view+json": {
       "model_id": "2ded3dd497e6401c9ed2491c08d67bc8",
       "version_major": 2,
       "version_minor": 0
      },
      "text/plain": [
       "KeplerGl(config={'version': 'v1', 'config': {'visState': {'filters': [], 'layers': [{'id': 'e4swxqa', 'type': …"
      ]
     },
     "metadata": {},
     "output_type": "display_data"
    }
   ],
   "source": [
    "isochrone_map"
   ]
  },
  {
   "cell_type": "code",
   "execution_count": 99,
   "id": "2a961560-5fe3-42b3-83a9-f87352225736",
   "metadata": {
    "collapsed": true,
    "jupyter": {
     "outputs_hidden": true
    },
    "tags": []
   },
   "outputs": [
    {
     "data": {
      "text/plain": [
       "{'version': 'v1',\n",
       " 'config': {'visState': {'filters': [],\n",
       "   'layers': [{'id': 'e4swxqa',\n",
       "     'type': 'geojson',\n",
       "     'config': {'dataId': 'Isochrones',\n",
       "      'label': 'Isochrones',\n",
       "      'color': [241, 92, 23],\n",
       "      'highlightColor': [252, 242, 26, 255],\n",
       "      'columns': {'geojson': 'geometry'},\n",
       "      'isVisible': True,\n",
       "      'visConfig': {'opacity': 0.3,\n",
       "       'strokeOpacity': 0.8,\n",
       "       'thickness': 0.5,\n",
       "       'strokeColor': [34, 63, 154],\n",
       "       'colorRange': {'name': 'Ice And Fire 3',\n",
       "        'type': 'diverging',\n",
       "        'category': 'Uber',\n",
       "        'colors': ['#0198BD', '#FAFEB3', '#D50255']},\n",
       "       'strokeColorRange': {'name': 'Global Warming',\n",
       "        'type': 'sequential',\n",
       "        'category': 'Uber',\n",
       "        'colors': ['#5A1846',\n",
       "         '#900C3F',\n",
       "         '#C70039',\n",
       "         '#E3611C',\n",
       "         '#F1920E',\n",
       "         '#FFC300']},\n",
       "       'radius': 10,\n",
       "       'sizeRange': [0, 10],\n",
       "       'radiusRange': [0, 50],\n",
       "       'heightRange': [0, 500],\n",
       "       'elevationScale': 5,\n",
       "       'enableElevationZoomFactor': True,\n",
       "       'stroked': False,\n",
       "       'filled': True,\n",
       "       'enable3d': False,\n",
       "       'wireframe': False},\n",
       "      'hidden': False,\n",
       "      'textLabel': [{'field': None,\n",
       "        'color': [255, 255, 255],\n",
       "        'size': 18,\n",
       "        'offset': [0, 0],\n",
       "        'anchor': 'start',\n",
       "        'alignment': 'center'}]},\n",
       "     'visualChannels': {'colorField': {'name': 'name', 'type': 'string'},\n",
       "      'colorScale': 'ordinal',\n",
       "      'strokeColorField': None,\n",
       "      'strokeColorScale': 'quantile',\n",
       "      'sizeField': None,\n",
       "      'sizeScale': 'linear',\n",
       "      'heightField': None,\n",
       "      'heightScale': 'linear',\n",
       "      'radiusField': None,\n",
       "      'radiusScale': 'linear'}}],\n",
       "   'interactionConfig': {'tooltip': {'fieldsToShow': {'Isochrones': [{'name': 'name',\n",
       "        'format': None}]},\n",
       "     'compareMode': False,\n",
       "     'compareType': 'absolute',\n",
       "     'enabled': True},\n",
       "    'brush': {'size': 0.5, 'enabled': False},\n",
       "    'geocoder': {'enabled': False},\n",
       "    'coordinate': {'enabled': False}},\n",
       "   'layerBlending': 'normal',\n",
       "   'splitMaps': [],\n",
       "   'animationConfig': {'currentTime': None, 'speed': 1}},\n",
       "  'mapState': {'bearing': 0,\n",
       "   'dragRotate': False,\n",
       "   'latitude': 32.601205964888095,\n",
       "   'longitude': -96.40454260677171,\n",
       "   'pitch': 0,\n",
       "   'zoom': 8.7972790738061,\n",
       "   'isSplit': False},\n",
       "  'mapStyle': {'styleType': 'dark',\n",
       "   'topLayerGroups': {},\n",
       "   'visibleLayerGroups': {'label': True,\n",
       "    'road': True,\n",
       "    'border': False,\n",
       "    'building': True,\n",
       "    'water': True,\n",
       "    'land': True,\n",
       "    '3d building': False},\n",
       "   'threeDBuildingColor': [9.665468314072013,\n",
       "    17.18305478057247,\n",
       "    31.1442867897876],\n",
       "   'mapStyles': {}}}}"
      ]
     },
     "execution_count": 99,
     "metadata": {},
     "output_type": "execute_result"
    }
   ],
   "source": [
    "isochrone_map.config"
   ]
  },
  {
   "cell_type": "code",
   "execution_count": 12,
   "id": "4ebceb66-8b98-4b45-92cf-7047d7fe448d",
   "metadata": {
    "jupyter": {
     "source_hidden": true
    },
    "tags": []
   },
   "outputs": [],
   "source": [
    "isochrones_h3_map_cfg = {'version': 'v1',\n",
    " 'config': {'visState': {'filters': [],\n",
    "   'layers': [{'id': 'ca6k4k',\n",
    "     'type': 'geojson',\n",
    "     'config': {'dataId': 'Isochrones in H3',\n",
    "      'label': 'Isochrones in H3',\n",
    "      'color': [241, 92, 23],\n",
    "      'highlightColor': [252, 242, 26, 255],\n",
    "      'columns': {'geojson': 'geometry'},\n",
    "      'isVisible': True,\n",
    "      'visConfig': {'opacity': 0.3,\n",
    "       'strokeOpacity': 0.8,\n",
    "       'thickness': 0.5,\n",
    "       'strokeColor': [34, 63, 154],\n",
    "       'colorRange': {'name': 'Ice And Fire 3',\n",
    "        'type': 'diverging',\n",
    "        'category': 'Uber',\n",
    "        'colors': ['#0198BD', '#FAFEB3', '#D50255']},\n",
    "       'strokeColorRange': {'name': 'Global Warming',\n",
    "        'type': 'sequential',\n",
    "        'category': 'Uber',\n",
    "        'colors': ['#5A1846',\n",
    "         '#900C3F',\n",
    "         '#C70039',\n",
    "         '#E3611C',\n",
    "         '#F1920E',\n",
    "         '#FFC300']},\n",
    "       'radius': 10,\n",
    "       'sizeRange': [0, 10],\n",
    "       'radiusRange': [0, 50],\n",
    "       'heightRange': [0, 500],\n",
    "       'elevationScale': 5,\n",
    "       'enableElevationZoomFactor': True,\n",
    "       'stroked': False,\n",
    "       'filled': True,\n",
    "       'enable3d': False,\n",
    "       'wireframe': False},\n",
    "      'hidden': False,\n",
    "      'textLabel': [{'field': None,\n",
    "        'color': [255, 255, 255],\n",
    "        'size': 18,\n",
    "        'offset': [0, 0],\n",
    "        'anchor': 'start',\n",
    "        'alignment': 'center'}]},\n",
    "     'visualChannels': {'colorField': {'name': 'name', 'type': 'string'},\n",
    "      'colorScale': 'ordinal',\n",
    "      'strokeColorField': None,\n",
    "      'strokeColorScale': 'quantile',\n",
    "      'sizeField': None,\n",
    "      'sizeScale': 'linear',\n",
    "      'heightField': None,\n",
    "      'heightScale': 'linear',\n",
    "      'radiusField': None,\n",
    "      'radiusScale': 'linear'}}],\n",
    "   'interactionConfig': {'tooltip': {'fieldsToShow': {'Isochrones in H3': [{'name': 'name',\n",
    "        'format': None},\n",
    "       {'name': 'population', 'format': None}]},\n",
    "     'compareMode': False,\n",
    "     'compareType': 'absolute',\n",
    "     'enabled': True},\n",
    "    'brush': {'size': 0.5, 'enabled': False},\n",
    "    'geocoder': {'enabled': False},\n",
    "    'coordinate': {'enabled': False}},\n",
    "   'layerBlending': 'normal',\n",
    "   'splitMaps': [],\n",
    "   'animationConfig': {'currentTime': None, 'speed': 1}},\n",
    "  'mapState': {'bearing': 0,\n",
    "   'dragRotate': False,\n",
    "   'latitude': 30.109638748624587,\n",
    "   'longitude': -93.94837575861246,\n",
    "   'pitch': 0,\n",
    "   'zoom': 5.798979652677288,\n",
    "   'isSplit': False},\n",
    "  'mapStyle': {'styleType': 'dark',\n",
    "   'topLayerGroups': {},\n",
    "   'visibleLayerGroups': {'label': True,\n",
    "    'road': True,\n",
    "    'border': False,\n",
    "    'building': True,\n",
    "    'water': True,\n",
    "    'land': True,\n",
    "    '3d building': False},\n",
    "   'threeDBuildingColor': [9.665468314072013,\n",
    "    17.18305478057247,\n",
    "    31.1442867897876],\n",
    "   'mapStyles': {}}}}\n",
    "\n"
   ]
  },
  {
   "cell_type": "code",
   "execution_count": 13,
   "id": "c2e83266-cbf0-4910-b2a5-dae56897ac06",
   "metadata": {},
   "outputs": [
    {
     "name": "stdout",
     "output_type": "stream",
     "text": [
      "User Guide: https://docs.kepler.gl/docs/keplergl-jupyter\n"
     ]
    },
    {
     "name": "stderr",
     "output_type": "stream",
     "text": [
      "/opt/conda/lib/python3.10/site-packages/jupyter_client/session.py:719: UserWarning: Message serialization failed with:\n",
      "Out of range float values are not JSON compliant\n",
      "Supporting this message is deprecated in jupyter-client 7, please make sure your message is JSON-compliant\n",
      "  content = self.pack(content)\n"
     ]
    }
   ],
   "source": [
    "isochrones_h3_map_data = sedona.sql(\"\"\"\n",
    "SELECT ST_H3CellIds(ST_GeomFromWKT(geometry), 8, false) AS h3, name, id\n",
    "FROM drivetimes_5_min\n",
    "\"\"\").select(explode('h3'), 'name','id').withColumnRenamed('col','h3') .\\\n",
    "join(kontur, 'h3', 'left').select('name','population',array('h3')).withColumnRenamed('array(h3)','h3').selectExpr('name','population','ST_H3ToGeom(h3) AS geometry')\n",
    "\n",
    "isochrones_h3_map = SedonaKepler.create_map(isochrones_h3_map_data, 'Isochrones in H3', config = isochrones_h3_map_cfg)"
   ]
  },
  {
   "cell_type": "code",
   "execution_count": 14,
   "id": "230e28ea-0851-42c6-a3f8-afc9a8a78010",
   "metadata": {},
   "outputs": [
    {
     "data": {
      "application/vnd.jupyter.widget-view+json": {
       "model_id": "7ef8259fe91e482d88b1abaa83fa5848",
       "version_major": 2,
       "version_minor": 0
      },
      "text/plain": [
       "KeplerGl(config={'version': 'v1', 'config': {'visState': {'filters': [], 'layers': [{'id': 'ca6k4k', 'type': '…"
      ]
     },
     "metadata": {},
     "output_type": "display_data"
    }
   ],
   "source": [
    "isochrones_h3_map"
   ]
  },
  {
   "cell_type": "code",
   "execution_count": 103,
   "id": "3db136ca-4439-44fb-beb3-ef78b94b15cf",
   "metadata": {
    "collapsed": true,
    "jupyter": {
     "outputs_hidden": true
    },
    "tags": []
   },
   "outputs": [
    {
     "data": {
      "text/plain": [
       "{'version': 'v1',\n",
       " 'config': {'visState': {'filters': [],\n",
       "   'layers': [{'id': 'ca6k4k',\n",
       "     'type': 'geojson',\n",
       "     'config': {'dataId': 'Isochrones in H3',\n",
       "      'label': 'Isochrones in H3',\n",
       "      'color': [241, 92, 23],\n",
       "      'highlightColor': [252, 242, 26, 255],\n",
       "      'columns': {'geojson': 'geometry'},\n",
       "      'isVisible': True,\n",
       "      'visConfig': {'opacity': 0.3,\n",
       "       'strokeOpacity': 0.8,\n",
       "       'thickness': 0.5,\n",
       "       'strokeColor': [34, 63, 154],\n",
       "       'colorRange': {'name': 'Ice And Fire 3',\n",
       "        'type': 'diverging',\n",
       "        'category': 'Uber',\n",
       "        'colors': ['#0198BD', '#FAFEB3', '#D50255']},\n",
       "       'strokeColorRange': {'name': 'Global Warming',\n",
       "        'type': 'sequential',\n",
       "        'category': 'Uber',\n",
       "        'colors': ['#5A1846',\n",
       "         '#900C3F',\n",
       "         '#C70039',\n",
       "         '#E3611C',\n",
       "         '#F1920E',\n",
       "         '#FFC300']},\n",
       "       'radius': 10,\n",
       "       'sizeRange': [0, 10],\n",
       "       'radiusRange': [0, 50],\n",
       "       'heightRange': [0, 500],\n",
       "       'elevationScale': 5,\n",
       "       'enableElevationZoomFactor': True,\n",
       "       'stroked': False,\n",
       "       'filled': True,\n",
       "       'enable3d': False,\n",
       "       'wireframe': False},\n",
       "      'hidden': False,\n",
       "      'textLabel': [{'field': None,\n",
       "        'color': [255, 255, 255],\n",
       "        'size': 18,\n",
       "        'offset': [0, 0],\n",
       "        'anchor': 'start',\n",
       "        'alignment': 'center'}]},\n",
       "     'visualChannels': {'colorField': {'name': 'name', 'type': 'string'},\n",
       "      'colorScale': 'ordinal',\n",
       "      'strokeColorField': None,\n",
       "      'strokeColorScale': 'quantile',\n",
       "      'sizeField': None,\n",
       "      'sizeScale': 'linear',\n",
       "      'heightField': None,\n",
       "      'heightScale': 'linear',\n",
       "      'radiusField': None,\n",
       "      'radiusScale': 'linear'}}],\n",
       "   'interactionConfig': {'tooltip': {'fieldsToShow': {'Isochrones in H3': [{'name': 'name',\n",
       "        'format': None},\n",
       "       {'name': 'population', 'format': None}]},\n",
       "     'compareMode': False,\n",
       "     'compareType': 'absolute',\n",
       "     'enabled': True},\n",
       "    'brush': {'size': 0.5, 'enabled': False},\n",
       "    'geocoder': {'enabled': False},\n",
       "    'coordinate': {'enabled': False}},\n",
       "   'layerBlending': 'normal',\n",
       "   'splitMaps': [],\n",
       "   'animationConfig': {'currentTime': None, 'speed': 1}},\n",
       "  'mapState': {'bearing': 0,\n",
       "   'dragRotate': False,\n",
       "   'latitude': 30.109638748624587,\n",
       "   'longitude': -93.94837575861246,\n",
       "   'pitch': 0,\n",
       "   'zoom': 5.798979652677288,\n",
       "   'isSplit': False},\n",
       "  'mapStyle': {'styleType': 'dark',\n",
       "   'topLayerGroups': {},\n",
       "   'visibleLayerGroups': {'label': True,\n",
       "    'road': True,\n",
       "    'border': False,\n",
       "    'building': True,\n",
       "    'water': True,\n",
       "    'land': True,\n",
       "    '3d building': False},\n",
       "   'threeDBuildingColor': [9.665468314072013,\n",
       "    17.18305478057247,\n",
       "    31.1442867897876],\n",
       "   'mapStyles': {}}}}"
      ]
     },
     "execution_count": 103,
     "metadata": {},
     "output_type": "execute_result"
    }
   ],
   "source": [
    "isochrones_h3_map.config"
   ]
  }
 ],
 "metadata": {
  "kernelspec": {
   "display_name": "Python 3 (ipykernel)",
   "language": "python",
   "name": "python3"
  },
  "language_info": {
   "codemirror_mode": {
    "name": "ipython",
    "version": 3
   },
   "file_extension": ".py",
   "mimetype": "text/x-python",
   "name": "python",
   "nbconvert_exporter": "python",
   "pygments_lexer": "ipython3",
   "version": "3.10.11"
  }
 },
 "nbformat": 4,
 "nbformat_minor": 5
}
